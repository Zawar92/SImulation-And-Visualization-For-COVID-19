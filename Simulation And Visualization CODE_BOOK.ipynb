{
 "cells": [
  {
   "cell_type": "markdown",
   "metadata": {},
   "source": [
    "# Loading Libraries"
   ]
  },
  {
   "cell_type": "code",
   "execution_count": 1248,
   "metadata": {},
   "outputs": [],
   "source": [
    "import numpy as np\n",
    "import json\n",
    "import pandas as pd\n",
    "import warnings\n",
    "warnings.filterwarnings('ignore')"
   ]
  },
  {
   "cell_type": "code",
   "execution_count": 637,
   "metadata": {},
   "outputs": [
    {
     "data": {
      "text/html": [
       "        <script type=\"text/javascript\">\n",
       "        window.PlotlyConfig = {MathJaxConfig: 'local'};\n",
       "        if (window.MathJax) {MathJax.Hub.Config({SVG: {font: \"STIX-Web\"}});}\n",
       "        if (typeof require !== 'undefined') {\n",
       "        require.undef(\"plotly\");\n",
       "        requirejs.config({\n",
       "            paths: {\n",
       "                'plotly': ['https://cdn.plot.ly/plotly-latest.min']\n",
       "            }\n",
       "        });\n",
       "        require(['plotly'], function(Plotly) {\n",
       "            window._Plotly = Plotly;\n",
       "        });\n",
       "        }\n",
       "        </script>\n",
       "        "
      ]
     },
     "metadata": {},
     "output_type": "display_data"
    }
   ],
   "source": [
    "from IPython.display import HTML\n",
    "from ipywidgets.widgets import interact, IntSlider, FloatSlider, Layout, ToggleButton\n",
    "\n",
    "from scipy.integrate import odeint\n",
    "import numpy as np\n",
    "import matplotlib.pyplot as plt\n",
    "\n",
    "import plotly.io as pio\n",
    "\n",
    "import cufflinks as cf\n",
    "import plotly.offline\n",
    "import plotly.graph_objs as go\n",
    "import plotly.plotly as py\n",
    "\n",
    "cf.go_offline()\n",
    "cf.set_config_file(offline=False, world_readable=True)\n",
    "\n",
    "import os\n",
    "import sys\n",
    "\n",
    "import requests\n",
    "from lmfit import minimize, Parameters, Parameter, report_fit\n",
    "pio.renderers.default = \"notebook\"\n",
    "%matplotlib inline\n",
    "plt.style.use('ggplot')\n",
    "\n",
    "style = {'description_width': '100px'}\n",
    "slider_layout = Layout(width='99%')\n",
    "\n",
    "pd.options.display.float_format = '{:.2f}'.format"
   ]
  },
  {
   "cell_type": "code",
   "execution_count": 638,
   "metadata": {},
   "outputs": [],
   "source": [
    "pd.options.display.float_format = '{:.2f}'.format"
   ]
  },
  {
   "cell_type": "code",
   "execution_count": null,
   "metadata": {},
   "outputs": [],
   "source": []
  },
  {
   "cell_type": "markdown",
   "metadata": {},
   "source": [
    "# Load Files"
   ]
  },
  {
   "cell_type": "code",
   "execution_count": 857,
   "metadata": {},
   "outputs": [],
   "source": [
    "df1 = pd.read_csv(\"../covid-19/data/countries-aggregated.csv\", sep=',')"
   ]
  },
  {
   "cell_type": "code",
   "execution_count": 858,
   "metadata": {},
   "outputs": [],
   "source": [
    "df2 = pd.read_csv(\"../covid-19/data/key-countries-pivoted.csv\", sep=',')"
   ]
  },
  {
   "cell_type": "code",
   "execution_count": 859,
   "metadata": {},
   "outputs": [],
   "source": [
    "df3 = pd.read_csv(\"../covid-19/data/time-series-19-covid-combined.csv\", sep=',')"
   ]
  },
  {
   "cell_type": "code",
   "execution_count": 860,
   "metadata": {},
   "outputs": [],
   "source": [
    "df4 = pd.read_csv(\"../covid-19/data/worldwide-aggregated.csv\", sep=',')"
   ]
  },
  {
   "cell_type": "code",
   "execution_count": 861,
   "metadata": {},
   "outputs": [],
   "source": [
    "df5 = pd.read_csv(\"../covid-19/data/reference.csv\", sep=',')"
   ]
  },
  {
   "cell_type": "markdown",
   "metadata": {},
   "source": [
    "### File Preprocessing"
   ]
  },
  {
   "cell_type": "code",
   "execution_count": 862,
   "metadata": {},
   "outputs": [],
   "source": [
    "Country_Aggregate = df1[df1['Country']==\"China\"]"
   ]
  },
  {
   "cell_type": "code",
   "execution_count": 863,
   "metadata": {},
   "outputs": [],
   "source": [
    "time_series = df3[df3['Country/Region']==\"China\"]"
   ]
  },
  {
   "cell_type": "code",
   "execution_count": 864,
   "metadata": {},
   "outputs": [],
   "source": [
    "Worl_Aggregate = df5[df5['Country_Region']==\"China\"]"
   ]
  },
  {
   "cell_type": "code",
   "execution_count": null,
   "metadata": {},
   "outputs": [],
   "source": []
  },
  {
   "cell_type": "code",
   "execution_count": 865,
   "metadata": {},
   "outputs": [],
   "source": [
    "Worl_Aggregate = Worl_Aggregate.reset_index()"
   ]
  },
  {
   "cell_type": "code",
   "execution_count": 866,
   "metadata": {},
   "outputs": [],
   "source": [
    "Country_Aggregate = Country_Aggregate.reset_index()"
   ]
  },
  {
   "cell_type": "code",
   "execution_count": 867,
   "metadata": {},
   "outputs": [],
   "source": [
    "time_series = time_series.reset_index()"
   ]
  },
  {
   "cell_type": "code",
   "execution_count": 868,
   "metadata": {},
   "outputs": [],
   "source": [
    "df4 = df4.reset_index()"
   ]
  },
  {
   "cell_type": "code",
   "execution_count": null,
   "metadata": {},
   "outputs": [],
   "source": []
  },
  {
   "cell_type": "code",
   "execution_count": null,
   "metadata": {},
   "outputs": [],
   "source": []
  },
  {
   "cell_type": "markdown",
   "metadata": {},
   "source": [
    "## BASIC Compartments"
   ]
  },
  {
   "cell_type": "code",
   "execution_count": 870,
   "metadata": {},
   "outputs": [],
   "source": [
    "result = Worl_Aggregate.sort_values(by='Population', ascending=False).max()"
   ]
  },
  {
   "cell_type": "code",
   "execution_count": 871,
   "metadata": {},
   "outputs": [],
   "source": [
    "Country_Aggregate[\"Deaths\"] = Country_Aggregate.Deaths.diff().abs()\n",
    "Country_Aggregate[\"Confirmed\"] = Country_Aggregate.Confirmed.diff().abs()\n",
    "Country_Aggregate[\"Recovered\"] = Country_Aggregate.Recovered.diff().abs()\n",
    "\n",
    "Country_Aggregate[\"Confirmed\"] = Country_Aggregate[\"Confirmed\"].fillna(100)\n",
    "Country_Aggregate[\"Recovered\"] = Country_Aggregate[\"Recovered\"].fillna(1)\n",
    "Country_Aggregate[\"Deaths\"] = Country_Aggregate[\"Deaths\"].fillna(1)"
   ]
  },
  {
   "cell_type": "code",
   "execution_count": 872,
   "metadata": {},
   "outputs": [],
   "source": [
    "Country_Aggregate['Susceptible'] = 0\n",
    "Country_Aggregate['Exposed'] = 0\n",
    "Country_Aggregate['Infected'] = 0\n",
    "Country_Aggregate['Infectedundetected'] = 0"
   ]
  },
  {
   "cell_type": "code",
   "execution_count": 873,
   "metadata": {},
   "outputs": [],
   "source": [
    "a=1404676330.00\n",
    "for i,v in enumerate(Country_Aggregate['Confirmed']):\n",
    "    a = a-(Country_Aggregate['Confirmed'][i]+Country_Aggregate['Deaths'][i])\n",
    "    Country_Aggregate['Susceptible'][i]=a"
   ]
  },
  {
   "cell_type": "code",
   "execution_count": 874,
   "metadata": {},
   "outputs": [],
   "source": [
    "# Country_Aggregate['Susceptible'] = Country_Aggregate['Susceptible'].diff().abs()\n",
    "Country_Aggregate['Exposed'] = Country_Aggregate['Susceptible'].diff().abs()\n",
    "Country_Aggregate['Infected'] = Country_Aggregate['Susceptible'].diff().abs()\n",
    "Country_Aggregate['Infectedundetected'] = (Country_Aggregate['Infected'] - Country_Aggregate['Confirmed']).abs()"
   ]
  },
  {
   "cell_type": "code",
   "execution_count": 875,
   "metadata": {},
   "outputs": [],
   "source": [
    "Country_Aggregate[\"Susceptible\"] = Country_Aggregate[\"Susceptible\"].fillna(100)\n",
    "Country_Aggregate[\"Exposed\"] = Country_Aggregate[\"Exposed\"].fillna(Country_Aggregate[\"Exposed\"].mean())\n",
    "Country_Aggregate[\"Infected\"] = Country_Aggregate[\"Infected\"].fillna(Country_Aggregate[\"Infected\"].mean())\n",
    "Country_Aggregate[\"Infectedundetected\"] = Country_Aggregate[\"Infectedundetected\"].fillna(Country_Aggregate[\"Infectedundetected\"].mean())"
   ]
  },
  {
   "cell_type": "code",
   "execution_count": 876,
   "metadata": {},
   "outputs": [],
   "source": [
    "Country_Aggregate.Date = pd.to_datetime(Country_Aggregate.Date)"
   ]
  },
  {
   "cell_type": "markdown",
   "metadata": {},
   "source": [
    "# COVID-19 Susceptible Monthly"
   ]
  },
  {
   "cell_type": "code",
   "execution_count": 877,
   "metadata": {},
   "outputs": [
    {
     "data": {
      "text/html": [
       "<div>\n",
       "        \n",
       "        \n",
       "            <div id=\"c8eaea60-d64d-4e08-9374-63be8fa5be3a\" class=\"plotly-graph-div\" style=\"height:525px; width:100%;\"></div>\n",
       "            <script type=\"text/javascript\">\n",
       "                require([\"plotly\"], function(Plotly) {\n",
       "                    window.PLOTLYENV=window.PLOTLYENV || {};\n",
       "                    window.PLOTLYENV.BASE_URL='https://plot.ly';\n",
       "                    \n",
       "                if (document.getElementById(\"c8eaea60-d64d-4e08-9374-63be8fa5be3a\")) {\n",
       "                    Plotly.newPlot(\n",
       "                        'c8eaea60-d64d-4e08-9374-63be8fa5be3a',\n",
       "                        [{\"line\": {\"color\": \"rgba(255, 153, 51, 1.0)\", \"dash\": \"solid\", \"shape\": \"linear\", \"width\": 1.3}, \"mode\": \"lines\", \"name\": \"Susceptible\", \"text\": \"\", \"type\": \"scatter\", \"uid\": \"59b612c2-fbcb-4063-b23e-1ea729eeb4b7\", \"x\": [1, 2, 3, 4, 5, 6, 7, 8], \"y\": [14046729043, 40733947248, 43542366700, 42137685387, 43542231570, 42137631920, 43542181573, 18259586425]}],\n",
       "                        {\"legend\": {\"bgcolor\": \"#F5F6F9\", \"font\": {\"color\": \"#4D5663\"}}, \"paper_bgcolor\": \"#F5F6F9\", \"plot_bgcolor\": \"#F5F6F9\", \"title\": {\"font\": {\"color\": \"#4D5663\"}, \"text\": \"COVID-19 Susceptible Monthly\"}, \"xaxis\": {\"gridcolor\": \"#E1E5ED\", \"showgrid\": true, \"tickfont\": {\"color\": \"#4D5663\"}, \"title\": {\"font\": {\"color\": \"#4D5663\"}, \"text\": \"\"}, \"zerolinecolor\": \"#E1E5ED\"}, \"yaxis\": {\"gridcolor\": \"#E1E5ED\", \"showgrid\": true, \"tickfont\": {\"color\": \"#4D5663\"}, \"title\": {\"font\": {\"color\": \"#4D5663\"}, \"text\": \"\"}, \"zerolinecolor\": \"#E1E5ED\"}},\n",
       "                        {\"showLink\": true, \"linkText\": \"Export to plot.ly\", \"plotlyServerURL\": \"https://plot.ly\", \"responsive\": true}\n",
       "                    ).then(function(){\n",
       "                            \n",
       "var gd = document.getElementById('c8eaea60-d64d-4e08-9374-63be8fa5be3a');\n",
       "var x = new MutationObserver(function (mutations, observer) {{\n",
       "        var display = window.getComputedStyle(gd).display;\n",
       "        if (!display || display === 'none') {{\n",
       "            console.log([gd, 'removed!']);\n",
       "            Plotly.purge(gd);\n",
       "            observer.disconnect();\n",
       "        }}\n",
       "}});\n",
       "\n",
       "// Listen for the removal of the full notebook cells\n",
       "var notebookContainer = gd.closest('#notebook-container');\n",
       "if (notebookContainer) {{\n",
       "    x.observe(notebookContainer, {childList: true});\n",
       "}}\n",
       "\n",
       "// Listen for the clearing of the current output cell\n",
       "var outputEl = gd.closest('.output');\n",
       "if (outputEl) {{\n",
       "    x.observe(outputEl, {childList: true});\n",
       "}}\n",
       "\n",
       "                        })\n",
       "                };\n",
       "                });\n",
       "            </script>\n",
       "        </div>"
      ]
     },
     "metadata": {},
     "output_type": "display_data"
    }
   ],
   "source": [
    "Country_Aggregate.groupby(Country_Aggregate['Date'].dt.month)[[\"Susceptible\"]].sum().iplot(kind='scatter',title = 'COVID-19 Susceptible Monthly')"
   ]
  },
  {
   "cell_type": "markdown",
   "metadata": {},
   "source": [
    "# Confirmed, Recovered, Deaths, Exposed, Infected, Infectedundetected By Month"
   ]
  },
  {
   "cell_type": "code",
   "execution_count": 878,
   "metadata": {},
   "outputs": [
    {
     "data": {
      "text/html": [
       "<div>\n",
       "        \n",
       "        \n",
       "            <div id=\"0fbfa3f0-bd08-4d6c-b2e7-eda3f495a0b8\" class=\"plotly-graph-div\" style=\"height:525px; width:100%;\"></div>\n",
       "            <script type=\"text/javascript\">\n",
       "                require([\"plotly\"], function(Plotly) {\n",
       "                    window.PLOTLYENV=window.PLOTLYENV || {};\n",
       "                    window.PLOTLYENV.BASE_URL='https://plot.ly';\n",
       "                    \n",
       "                if (document.getElementById(\"0fbfa3f0-bd08-4d6c-b2e7-eda3f495a0b8\")) {\n",
       "                    Plotly.newPlot(\n",
       "                        '0fbfa3f0-bd08-4d6c-b2e7-eda3f495a0b8',\n",
       "                        [{\"marker\": {\"color\": \"rgba(255, 153, 51, 0.6)\", \"line\": {\"color\": \"rgba(255, 153, 51, 1.0)\", \"width\": 1}}, \"name\": \"Confirmed\", \"orientation\": \"v\", \"text\": \"\", \"type\": \"bar\", \"uid\": \"c57cf300-0c59-4baf-9a5d-cbdb0db0b6b9\", \"x\": [1, 2, 3, 4, 5, 6, 7, 8], \"y\": [9354.0, 69554.0, 2923.0, 1677.0, 190.0, 641.0, 2870.0, 1489.0]}, {\"marker\": {\"color\": \"rgba(55, 128, 191, 0.6)\", \"line\": {\"color\": \"rgba(55, 128, 191, 1.0)\", \"width\": 1}}, \"name\": \"Recovered\", \"orientation\": \"v\", \"text\": \"\", \"type\": \"bar\", \"uid\": \"916eba19-cd4f-4e2c-a27d-dfbe7a6c7364\", \"x\": [1, 2, 3, 4, 5, 6, 7, 8], \"y\": [187.0, 39106.0, 36886.0, 4015.0, 866.0, 243.0, 1155.0, 2017.0]}, {\"marker\": {\"color\": \"rgba(50, 171, 96, 0.6)\", \"line\": {\"color\": \"rgba(50, 171, 96, 1.0)\", \"width\": 1}}, \"name\": \"Deaths\", \"orientation\": \"v\", \"text\": \"\", \"type\": \"bar\", \"uid\": \"cd9ac2a1-9cff-4efb-b6a1-419f61a4e161\", \"x\": [1, 2, 3, 4, 5, 6, 7, 8], \"y\": [197.0, 2624.0, 472.0, 1328.0, 1.0, 3.0, 20.0, 39.0]}, {\"marker\": {\"color\": \"rgba(128, 0, 128, 0.6)\", \"line\": {\"color\": \"rgba(128, 0, 128, 1.0)\", \"width\": 1}}, \"name\": \"Exposed\", \"orientation\": \"v\", \"text\": \"\", \"type\": \"bar\", \"uid\": \"576c978e-4236-4902-b2f3-f979db32b92a\", \"x\": [1, 2, 3, 4, 5, 6, 7, 8], \"y\": [9907.259803921568, 72178.0, 3395.0, 3005.0, 191.0, 644.0, 2890.0, 1528.0]}, {\"marker\": {\"color\": \"rgba(219, 64, 82, 0.6)\", \"line\": {\"color\": \"rgba(219, 64, 82, 1.0)\", \"width\": 1}}, \"name\": \"Infected\", \"orientation\": \"v\", \"text\": \"\", \"type\": \"bar\", \"uid\": \"cdc9a531-7b42-4d28-87fe-a71a85d44534\", \"x\": [1, 2, 3, 4, 5, 6, 7, 8], \"y\": [9907.259803921568, 72178.0, 3395.0, 3005.0, 191.0, 644.0, 2890.0, 1528.0]}, {\"marker\": {\"color\": \"rgba(0, 128, 128, 0.6)\", \"line\": {\"color\": \"rgba(0, 128, 128, 1.0)\", \"width\": 1}}, \"name\": \"Infectedundetected\", \"orientation\": \"v\", \"text\": \"\", \"type\": \"bar\", \"uid\": \"81041e8a-80d4-44bc-a45d-f4a64f8af6eb\", \"x\": [1, 2, 3, 4, 5, 6, 7, 8], \"y\": [218.95588235294116, 2624.0, 472.0, 1328.0, 1.0, 3.0, 20.0, 39.0]}],\n",
       "                        {\"legend\": {\"bgcolor\": \"#F5F6F9\", \"font\": {\"color\": \"#4D5663\"}}, \"paper_bgcolor\": \"#F5F6F9\", \"plot_bgcolor\": \"#F5F6F9\", \"title\": {\"font\": {\"color\": \"#4D5663\"}, \"text\": \"COVID-19 By Month\"}, \"xaxis\": {\"gridcolor\": \"#E1E5ED\", \"showgrid\": true, \"tickfont\": {\"color\": \"#4D5663\"}, \"title\": {\"font\": {\"color\": \"#4D5663\"}, \"text\": \"\"}, \"zerolinecolor\": \"#E1E5ED\"}, \"yaxis\": {\"gridcolor\": \"#E1E5ED\", \"showgrid\": true, \"tickfont\": {\"color\": \"#4D5663\"}, \"title\": {\"font\": {\"color\": \"#4D5663\"}, \"text\": \"\"}, \"zerolinecolor\": \"#E1E5ED\"}},\n",
       "                        {\"showLink\": true, \"linkText\": \"Export to plot.ly\", \"plotlyServerURL\": \"https://plot.ly\", \"responsive\": true}\n",
       "                    ).then(function(){\n",
       "                            \n",
       "var gd = document.getElementById('0fbfa3f0-bd08-4d6c-b2e7-eda3f495a0b8');\n",
       "var x = new MutationObserver(function (mutations, observer) {{\n",
       "        var display = window.getComputedStyle(gd).display;\n",
       "        if (!display || display === 'none') {{\n",
       "            console.log([gd, 'removed!']);\n",
       "            Plotly.purge(gd);\n",
       "            observer.disconnect();\n",
       "        }}\n",
       "}});\n",
       "\n",
       "// Listen for the removal of the full notebook cells\n",
       "var notebookContainer = gd.closest('#notebook-container');\n",
       "if (notebookContainer) {{\n",
       "    x.observe(notebookContainer, {childList: true});\n",
       "}}\n",
       "\n",
       "// Listen for the clearing of the current output cell\n",
       "var outputEl = gd.closest('.output');\n",
       "if (outputEl) {{\n",
       "    x.observe(outputEl, {childList: true});\n",
       "}}\n",
       "\n",
       "                        })\n",
       "                };\n",
       "                });\n",
       "            </script>\n",
       "        </div>"
      ]
     },
     "metadata": {},
     "output_type": "display_data"
    }
   ],
   "source": [
    "Country_Aggregate.groupby(Country_Aggregate['Date'].dt.month)[[\"Confirmed\",\"Recovered\",\"Deaths\",\"Exposed\",\"Infected\",\"Infectedundetected\"]].sum().iplot(kind='bar',title = 'COVID-19 By Month')"
   ]
  },
  {
   "cell_type": "markdown",
   "metadata": {},
   "source": [
    "# Confirmed, Recovered, Deaths, Exposed, Infected, Infectedundetected By Month"
   ]
  },
  {
   "cell_type": "code",
   "execution_count": 879,
   "metadata": {},
   "outputs": [
    {
     "data": {
      "text/html": [
       "<div>\n",
       "        \n",
       "        \n",
       "            <div id=\"e805f0e6-9fdf-4ac3-8d75-540a84bb1011\" class=\"plotly-graph-div\" style=\"height:525px; width:100%;\"></div>\n",
       "            <script type=\"text/javascript\">\n",
       "                require([\"plotly\"], function(Plotly) {\n",
       "                    window.PLOTLYENV=window.PLOTLYENV || {};\n",
       "                    window.PLOTLYENV.BASE_URL='https://plot.ly';\n",
       "                    \n",
       "                if (document.getElementById(\"e805f0e6-9fdf-4ac3-8d75-540a84bb1011\")) {\n",
       "                    Plotly.newPlot(\n",
       "                        'e805f0e6-9fdf-4ac3-8d75-540a84bb1011',\n",
       "                        [{\"line\": {\"color\": \"rgba(255, 153, 51, 1.0)\", \"dash\": \"solid\", \"shape\": \"linear\", \"width\": 1.3}, \"mode\": \"lines\", \"name\": \"Confirmed\", \"text\": \"\", \"type\": \"scatter\", \"uid\": \"66796ec5-fcd4-4e29-9054-9043879d3364\", \"x\": [0, 1, 2, 3, 4, 5, 6, 7, 8, 9, 10, 11, 12, 13, 14, 15, 16, 17, 18, 19, 20, 21, 22, 23, 24, 25, 26, 27, 28, 29, 30, 31, 32, 33, 34, 35, 36, 37, 38, 39, 40, 41, 42, 43, 44, 45, 46, 47, 48, 49, 50, 51, 52, 53, 54, 55, 56, 57, 58, 59, 60, 61, 62, 63, 64, 65, 66, 67, 68, 69, 70, 71, 72, 73, 74, 75, 76, 77, 78, 79, 80, 81, 82, 83, 84, 85, 86, 87, 88, 89, 90, 91, 92, 93, 94, 95, 96, 97, 98, 99, 100, 101, 102, 103, 104, 105, 106, 107, 108, 109, 110, 111, 112, 113, 114, 115, 116, 117, 118, 119, 120, 121, 122, 123, 124, 125, 126, 127, 128, 129, 130, 131, 132, 133, 134, 135, 136, 137, 138, 139, 140, 141, 142, 143, 144, 145, 146, 147, 148, 149, 150, 151, 152, 153, 154, 155, 156, 157, 158, 159, 160, 161, 162, 163, 164, 165, 166, 167, 168, 169, 170, 171, 172, 173, 174, 175, 176, 177, 178, 179, 180, 181, 182, 183, 184, 185, 186, 187, 188, 189, 190, 191, 192, 193, 194, 195, 196, 197, 198, 199, 200, 201, 202, 203, 204], \"y\": [100.0, 95.0, 277.0, 486.0, 669.0, 802.0, 2632.0, 578.0, 2054.0, 1661.0, 2089.0, 4739.0, 3086.0, 3991.0, 3733.0, 3147.0, 3523.0, 2704.0, 3015.0, 2525.0, 2032.0, 373.0, 15136.0, 6463.0, 2055.0, 2100.0, 1921.0, 1777.0, 408.0, 458.0, 473.0, 1451.0, 21.0, 219.0, 513.0, 412.0, 434.0, 328.0, 428.0, 576.0, 204.0, 125.0, 125.0, 151.0, 153.0, 80.0, 53.0, 37.0, 27.0, 34.0, 11.0, 13.0, 32.0, 26.0, 30.0, 25.0, 44.0, 54.0, 94.0, 55.0, 130.0, 63.0, 93.0, 70.0, 121.0, 115.0, 102.0, 123.0, 76.0, 81.0, 82.0, 71.0, 79.0, 32.0, 59.0, 63.0, 53.0, 91.0, 74.0, 58.0, 73.0, 120.0, 79.0, 93.0, 50.0, 47.0, 357.0, 27.0, 18.0, 12.0, 36.0, 15.0, 16.0, 15.0, 10.0, 3.0, 6.0, 22.0, 4.0, 12.0, 3.0, 0.0, 5.0, 2.0, 2.0, 2.0, 5.0, 1.0, 14.0, 20.0, 1.0, 7.0, 6.0, 5.0, 9.0, 6.0, 10.0, 9.0, 0.0, 0.0, 0.0, 18.0, 3.0, 11.0, 7.0, 1.0, 3.0, 0.0, 17.0, 5.0, 18.0, 8.0, 7.0, 1.0, 11.0, 6.0, 9.0, 5.0, 4.0, 3.0, 11.0, 7.0, 12.0, 58.0, 49.0, 43.0, 44.0, 36.0, 36.0, 0.0, 59.0, 19.0, 52.0, 29.0, 20.0, 28.0, 24.0, 18.0, 14.0, 23.0, 5.0, 31.0, 14.0, 8.0, 19.0, 14.0, 18.0, 28.0, 33.0, 42.0, 0.0, 79.0, 46.0, 0.0, 109.0, 20.0, 81.0, 75.0, 16.0, 85.0, 119.0, 86.0, 198.0, 139.0, 157.0, 179.0, 189.0, 213.0, 207.0, 223.0, 276.0, 166.0, 172.0, 158.0, 114.0, 107.0, 122.0, 132.0, 120.0, 92.0, 121.0, 113.0, 52.0, 87.0, 99.0]}, {\"line\": {\"color\": \"rgba(55, 128, 191, 1.0)\", \"dash\": \"solid\", \"shape\": \"linear\", \"width\": 1.3}, \"mode\": \"lines\", \"name\": \"Recovered\", \"text\": \"\", \"type\": \"scatter\", \"uid\": \"9a0efa41-aa1c-4a39-9515-6d40c5b2a9c7\", \"x\": [0, 1, 2, 3, 4, 5, 6, 7, 8, 9, 10, 11, 12, 13, 14, 15, 16, 17, 18, 19, 20, 21, 22, 23, 24, 25, 26, 27, 28, 29, 30, 31, 32, 33, 34, 35, 36, 37, 38, 39, 40, 41, 42, 43, 44, 45, 46, 47, 48, 49, 50, 51, 52, 53, 54, 55, 56, 57, 58, 59, 60, 61, 62, 63, 64, 65, 66, 67, 68, 69, 70, 71, 72, 73, 74, 75, 76, 77, 78, 79, 80, 81, 82, 83, 84, 85, 86, 87, 88, 89, 90, 91, 92, 93, 94, 95, 96, 97, 98, 99, 100, 101, 102, 103, 104, 105, 106, 107, 108, 109, 110, 111, 112, 113, 114, 115, 116, 117, 118, 119, 120, 121, 122, 123, 124, 125, 126, 127, 128, 129, 130, 131, 132, 133, 134, 135, 136, 137, 138, 139, 140, 141, 142, 143, 144, 145, 146, 147, 148, 149, 150, 151, 152, 153, 154, 155, 156, 157, 158, 159, 160, 161, 162, 163, 164, 165, 166, 167, 168, 169, 170, 171, 172, 173, 174, 175, 176, 177, 178, 179, 180, 181, 182, 183, 184, 185, 186, 187, 188, 189, 190, 191, 192, 193, 194, 195, 196, 197, 198, 199, 200, 201, 202, 203, 204], \"y\": [1.0, 2.0, 6.0, 3.0, 10.0, 9.0, 43.0, 19.0, 15.0, 79.0, 61.0, 188.0, 151.0, 229.0, 272.0, 362.0, 522.0, 597.0, 623.0, 699.0, 718.0, 446.0, 1135.0, 1760.0, 1321.0, 1457.0, 1707.0, 1744.0, 1756.0, 2052.0, 690.0, 3995.0, 488.0, 1828.0, 2661.0, 2408.0, 2846.0, 3399.0, 2991.0, 2842.0, 2692.0, 2596.0, 2551.0, 2291.0, 1652.0, 1595.0, 1849.0, 1416.0, 1377.0, 1463.0, 1257.0, 1295.0, 1464.0, 1357.0, 893.0, 888.0, 957.0, 780.0, 731.0, 591.0, 505.0, 452.0, 466.0, 493.0, 408.0, 539.0, 380.0, 482.0, 341.0, 283.0, 199.0, 160.0, 195.0, 186.0, 261.0, 103.0, 100.0, 157.0, 112.0, 112.0, 86.0, 79.0, 83.0, 161.0, 111.0, 90.0, 849.0, 62.0, 76.0, 55.0, 54.0, 62.0, 122.0, 126.0, 66.0, 102.0, 97.0, 48.0, 52.0, 49.0, 50.0, 13.0, 98.0, 108.0, 78.0, 59.0, 48.0, 16.0, 134.0, 40.0, 31.0, 24.0, 24.0, 15.0, 20.0, 12.0, 13.0, 4.0, 0.0, 0.0, 0.0, 22.0, 3.0, 8.0, 9.0, 6.0, 9.0, 4.0, 11.0, 4.0, 3.0, 9.0, 2.0, 4.0, 11.0, 5.0, 4.0, 10.0, 10.0, 7.0, 5.0, 8.0, 8.0, 3.0, 7.0, 7.0, 4.0, 17.0, 5.0, 0.0, 19.0, 1.0, 12.0, 8.0, 7.0, 10.0, 8.0, 11.0, 18.0, 10.0, 13.0, 18.0, 15.0, 15.0, 26.0, 12.0, 7.0, 29.0, 48.0, 0.0, 0.0, 74.0, 31.0, 0.0, 60.0, 38.0, 33.0, 26.0, 28.0, 45.0, 25.0, 42.0, 40.0, 53.0, 44.0, 68.0, 50.0, 7.0, 51.0, 77.0, 86.0, 107.0, 120.0, 111.0, 95.0, 121.0, 183.0, 175.0, 196.0, 181.0, 156.0, 122.0, 193.0, 193.0, 171.0]}, {\"line\": {\"color\": \"rgba(50, 171, 96, 1.0)\", \"dash\": \"solid\", \"shape\": \"linear\", \"width\": 1.3}, \"mode\": \"lines\", \"name\": \"Deaths\", \"text\": \"\", \"type\": \"scatter\", \"uid\": \"ea8f118c-14f7-4b78-838e-54353d748b75\", \"x\": [0, 1, 2, 3, 4, 5, 6, 7, 8, 9, 10, 11, 12, 13, 14, 15, 16, 17, 18, 19, 20, 21, 22, 23, 24, 25, 26, 27, 28, 29, 30, 31, 32, 33, 34, 35, 36, 37, 38, 39, 40, 41, 42, 43, 44, 45, 46, 47, 48, 49, 50, 51, 52, 53, 54, 55, 56, 57, 58, 59, 60, 61, 62, 63, 64, 65, 66, 67, 68, 69, 70, 71, 72, 73, 74, 75, 76, 77, 78, 79, 80, 81, 82, 83, 84, 85, 86, 87, 88, 89, 90, 91, 92, 93, 94, 95, 96, 97, 98, 99, 100, 101, 102, 103, 104, 105, 106, 107, 108, 109, 110, 111, 112, 113, 114, 115, 116, 117, 118, 119, 120, 121, 122, 123, 124, 125, 126, 127, 128, 129, 130, 131, 132, 133, 134, 135, 136, 137, 138, 139, 140, 141, 142, 143, 144, 145, 146, 147, 148, 149, 150, 151, 152, 153, 154, 155, 156, 157, 158, 159, 160, 161, 162, 163, 164, 165, 166, 167, 168, 169, 170, 171, 172, 173, 174, 175, 176, 177, 178, 179, 180, 181, 182, 183, 184, 185, 186, 187, 188, 189, 190, 191, 192, 193, 194, 195, 196, 197, 198, 199, 200, 201, 202, 203, 204], \"y\": [1.0, 1.0, 8.0, 16.0, 14.0, 26.0, 49.0, 2.0, 38.0, 42.0, 46.0, 102.0, 64.0, 66.0, 72.0, 70.0, 85.0, 87.0, 100.0, 107.0, 100.0, 5.0, 252.0, 152.0, 142.0, 103.0, 98.0, 139.0, 113.0, 122.0, 0.0, 205.0, 2.0, 150.0, 70.0, 52.0, 29.0, 44.0, 47.0, 35.0, 42.0, 33.0, 36.0, 32.0, 29.0, 28.0, 28.0, 23.0, 16.0, 22.0, 11.0, 8.0, 13.0, 10.0, 14.0, 13.0, 11.0, 8.0, 4.0, 6.0, 15.0, 0.0, 7.0, 4.0, 6.0, 5.0, 3.0, 5.0, 4.0, 1.0, 7.0, 6.0, 4.0, 4.0, 3.0, 2.0, 0.0, 2.0, 2.0, 1.0, 3.0, 0.0, 2.0, 0.0, 1.0, 0.0, 1290.0, 0.0, 0.0, 0.0, 0.0, 0.0, 0.0, 0.0, 0.0, 1.0, 0.0, 0.0, 0.0, 0.0, 0.0, 0.0, 0.0, 0.0, 0.0, 0.0, 0.0, 0.0, 0.0, 0.0, 0.0, 0.0, 0.0, 0.0, 0.0, 1.0, 0.0, 0.0, 0.0, 0.0, 0.0, 0.0, 0.0, 0.0, 0.0, 0.0, 0.0, 0.0, 0.0, 0.0, 0.0, 0.0, 0.0, 0.0, 0.0, 0.0, 0.0, 0.0, 0.0, 0.0, 0.0, 0.0, 0.0, 0.0, 0.0, 0.0, 0.0, 0.0, 0.0, 0.0, 1.0, 0.0, 0.0, 1.0, 0.0, 1.0, 0.0, 0.0, 0.0, 0.0, 0.0, 0.0, 0.0, 0.0, 0.0, 0.0, 0.0, 0.0, 0.0, 0.0, 0.0, 0.0, 0.0, 0.0, 1.0, 2.0, 0.0, 1.0, 1.0, 0.0, 0.0, 2.0, 0.0, 1.0, 1.0, 2.0, 0.0, 4.0, 1.0, 1.0, 1.0, 2.0, 6.0, 2.0, 3.0, 4.0, 1.0, 3.0, 1.0, 0.0, 5.0, 3.0, 4.0, 4.0, 3.0]}, {\"line\": {\"color\": \"rgba(128, 0, 128, 1.0)\", \"dash\": \"solid\", \"shape\": \"linear\", \"width\": 1.3}, \"mode\": \"lines\", \"name\": \"Exposed\", \"text\": \"\", \"type\": \"scatter\", \"uid\": \"c347b59a-3032-47a3-baad-470dcd1102a8\", \"x\": [0, 1, 2, 3, 4, 5, 6, 7, 8, 9, 10, 11, 12, 13, 14, 15, 16, 17, 18, 19, 20, 21, 22, 23, 24, 25, 26, 27, 28, 29, 30, 31, 32, 33, 34, 35, 36, 37, 38, 39, 40, 41, 42, 43, 44, 45, 46, 47, 48, 49, 50, 51, 52, 53, 54, 55, 56, 57, 58, 59, 60, 61, 62, 63, 64, 65, 66, 67, 68, 69, 70, 71, 72, 73, 74, 75, 76, 77, 78, 79, 80, 81, 82, 83, 84, 85, 86, 87, 88, 89, 90, 91, 92, 93, 94, 95, 96, 97, 98, 99, 100, 101, 102, 103, 104, 105, 106, 107, 108, 109, 110, 111, 112, 113, 114, 115, 116, 117, 118, 119, 120, 121, 122, 123, 124, 125, 126, 127, 128, 129, 130, 131, 132, 133, 134, 135, 136, 137, 138, 139, 140, 141, 142, 143, 144, 145, 146, 147, 148, 149, 150, 151, 152, 153, 154, 155, 156, 157, 158, 159, 160, 161, 162, 163, 164, 165, 166, 167, 168, 169, 170, 171, 172, 173, 174, 175, 176, 177, 178, 179, 180, 181, 182, 183, 184, 185, 186, 187, 188, 189, 190, 191, 192, 193, 194, 195, 196, 197, 198, 199, 200, 201, 202, 203, 204], \"y\": [457.2598039215686, 96.0, 285.0, 502.0, 683.0, 828.0, 2681.0, 580.0, 2092.0, 1703.0, 2135.0, 4841.0, 3150.0, 4057.0, 3805.0, 3217.0, 3608.0, 2791.0, 3115.0, 2632.0, 2132.0, 378.0, 15388.0, 6615.0, 2197.0, 2203.0, 2019.0, 1916.0, 521.0, 580.0, 473.0, 1656.0, 23.0, 369.0, 583.0, 464.0, 463.0, 372.0, 475.0, 611.0, 246.0, 158.0, 161.0, 183.0, 182.0, 108.0, 81.0, 60.0, 43.0, 56.0, 22.0, 21.0, 45.0, 36.0, 44.0, 38.0, 55.0, 62.0, 98.0, 61.0, 145.0, 63.0, 100.0, 74.0, 127.0, 120.0, 105.0, 128.0, 80.0, 82.0, 89.0, 77.0, 83.0, 36.0, 62.0, 65.0, 53.0, 93.0, 76.0, 59.0, 76.0, 120.0, 81.0, 93.0, 51.0, 47.0, 1647.0, 27.0, 18.0, 12.0, 36.0, 15.0, 16.0, 15.0, 10.0, 4.0, 6.0, 22.0, 4.0, 12.0, 3.0, 0.0, 5.0, 2.0, 2.0, 2.0, 5.0, 1.0, 14.0, 20.0, 1.0, 7.0, 6.0, 5.0, 9.0, 7.0, 10.0, 9.0, 0.0, 0.0, 0.0, 18.0, 3.0, 11.0, 7.0, 1.0, 3.0, 0.0, 17.0, 5.0, 18.0, 8.0, 7.0, 1.0, 11.0, 6.0, 9.0, 5.0, 4.0, 3.0, 11.0, 7.0, 12.0, 58.0, 49.0, 43.0, 44.0, 36.0, 36.0, 0.0, 60.0, 19.0, 52.0, 30.0, 20.0, 29.0, 24.0, 18.0, 14.0, 23.0, 5.0, 31.0, 14.0, 8.0, 19.0, 14.0, 18.0, 28.0, 33.0, 42.0, 0.0, 79.0, 46.0, 0.0, 110.0, 22.0, 81.0, 76.0, 17.0, 85.0, 119.0, 88.0, 198.0, 140.0, 158.0, 181.0, 189.0, 217.0, 208.0, 224.0, 277.0, 168.0, 178.0, 160.0, 117.0, 111.0, 123.0, 135.0, 121.0, 92.0, 126.0, 116.0, 56.0, 91.0, 102.0]}, {\"line\": {\"color\": \"rgba(219, 64, 82, 1.0)\", \"dash\": \"solid\", \"shape\": \"linear\", \"width\": 1.3}, \"mode\": \"lines\", \"name\": \"Infected\", \"text\": \"\", \"type\": \"scatter\", \"uid\": \"f1b20e9c-2eaf-4d97-a878-a52050431f46\", \"x\": [0, 1, 2, 3, 4, 5, 6, 7, 8, 9, 10, 11, 12, 13, 14, 15, 16, 17, 18, 19, 20, 21, 22, 23, 24, 25, 26, 27, 28, 29, 30, 31, 32, 33, 34, 35, 36, 37, 38, 39, 40, 41, 42, 43, 44, 45, 46, 47, 48, 49, 50, 51, 52, 53, 54, 55, 56, 57, 58, 59, 60, 61, 62, 63, 64, 65, 66, 67, 68, 69, 70, 71, 72, 73, 74, 75, 76, 77, 78, 79, 80, 81, 82, 83, 84, 85, 86, 87, 88, 89, 90, 91, 92, 93, 94, 95, 96, 97, 98, 99, 100, 101, 102, 103, 104, 105, 106, 107, 108, 109, 110, 111, 112, 113, 114, 115, 116, 117, 118, 119, 120, 121, 122, 123, 124, 125, 126, 127, 128, 129, 130, 131, 132, 133, 134, 135, 136, 137, 138, 139, 140, 141, 142, 143, 144, 145, 146, 147, 148, 149, 150, 151, 152, 153, 154, 155, 156, 157, 158, 159, 160, 161, 162, 163, 164, 165, 166, 167, 168, 169, 170, 171, 172, 173, 174, 175, 176, 177, 178, 179, 180, 181, 182, 183, 184, 185, 186, 187, 188, 189, 190, 191, 192, 193, 194, 195, 196, 197, 198, 199, 200, 201, 202, 203, 204], \"y\": [457.2598039215686, 96.0, 285.0, 502.0, 683.0, 828.0, 2681.0, 580.0, 2092.0, 1703.0, 2135.0, 4841.0, 3150.0, 4057.0, 3805.0, 3217.0, 3608.0, 2791.0, 3115.0, 2632.0, 2132.0, 378.0, 15388.0, 6615.0, 2197.0, 2203.0, 2019.0, 1916.0, 521.0, 580.0, 473.0, 1656.0, 23.0, 369.0, 583.0, 464.0, 463.0, 372.0, 475.0, 611.0, 246.0, 158.0, 161.0, 183.0, 182.0, 108.0, 81.0, 60.0, 43.0, 56.0, 22.0, 21.0, 45.0, 36.0, 44.0, 38.0, 55.0, 62.0, 98.0, 61.0, 145.0, 63.0, 100.0, 74.0, 127.0, 120.0, 105.0, 128.0, 80.0, 82.0, 89.0, 77.0, 83.0, 36.0, 62.0, 65.0, 53.0, 93.0, 76.0, 59.0, 76.0, 120.0, 81.0, 93.0, 51.0, 47.0, 1647.0, 27.0, 18.0, 12.0, 36.0, 15.0, 16.0, 15.0, 10.0, 4.0, 6.0, 22.0, 4.0, 12.0, 3.0, 0.0, 5.0, 2.0, 2.0, 2.0, 5.0, 1.0, 14.0, 20.0, 1.0, 7.0, 6.0, 5.0, 9.0, 7.0, 10.0, 9.0, 0.0, 0.0, 0.0, 18.0, 3.0, 11.0, 7.0, 1.0, 3.0, 0.0, 17.0, 5.0, 18.0, 8.0, 7.0, 1.0, 11.0, 6.0, 9.0, 5.0, 4.0, 3.0, 11.0, 7.0, 12.0, 58.0, 49.0, 43.0, 44.0, 36.0, 36.0, 0.0, 60.0, 19.0, 52.0, 30.0, 20.0, 29.0, 24.0, 18.0, 14.0, 23.0, 5.0, 31.0, 14.0, 8.0, 19.0, 14.0, 18.0, 28.0, 33.0, 42.0, 0.0, 79.0, 46.0, 0.0, 110.0, 22.0, 81.0, 76.0, 17.0, 85.0, 119.0, 88.0, 198.0, 140.0, 158.0, 181.0, 189.0, 217.0, 208.0, 224.0, 277.0, 168.0, 178.0, 160.0, 117.0, 111.0, 123.0, 135.0, 121.0, 92.0, 126.0, 116.0, 56.0, 91.0, 102.0]}, {\"line\": {\"color\": \"rgba(0, 128, 128, 1.0)\", \"dash\": \"solid\", \"shape\": \"linear\", \"width\": 1.3}, \"mode\": \"lines\", \"name\": \"Infectedundetected\", \"text\": \"\", \"type\": \"scatter\", \"uid\": \"9aeb333d-7575-4424-9aa8-c060d3e56fd3\", \"x\": [0, 1, 2, 3, 4, 5, 6, 7, 8, 9, 10, 11, 12, 13, 14, 15, 16, 17, 18, 19, 20, 21, 22, 23, 24, 25, 26, 27, 28, 29, 30, 31, 32, 33, 34, 35, 36, 37, 38, 39, 40, 41, 42, 43, 44, 45, 46, 47, 48, 49, 50, 51, 52, 53, 54, 55, 56, 57, 58, 59, 60, 61, 62, 63, 64, 65, 66, 67, 68, 69, 70, 71, 72, 73, 74, 75, 76, 77, 78, 79, 80, 81, 82, 83, 84, 85, 86, 87, 88, 89, 90, 91, 92, 93, 94, 95, 96, 97, 98, 99, 100, 101, 102, 103, 104, 105, 106, 107, 108, 109, 110, 111, 112, 113, 114, 115, 116, 117, 118, 119, 120, 121, 122, 123, 124, 125, 126, 127, 128, 129, 130, 131, 132, 133, 134, 135, 136, 137, 138, 139, 140, 141, 142, 143, 144, 145, 146, 147, 148, 149, 150, 151, 152, 153, 154, 155, 156, 157, 158, 159, 160, 161, 162, 163, 164, 165, 166, 167, 168, 169, 170, 171, 172, 173, 174, 175, 176, 177, 178, 179, 180, 181, 182, 183, 184, 185, 186, 187, 188, 189, 190, 191, 192, 193, 194, 195, 196, 197, 198, 199, 200, 201, 202, 203, 204], \"y\": [22.955882352941178, 1.0, 8.0, 16.0, 14.0, 26.0, 49.0, 2.0, 38.0, 42.0, 46.0, 102.0, 64.0, 66.0, 72.0, 70.0, 85.0, 87.0, 100.0, 107.0, 100.0, 5.0, 252.0, 152.0, 142.0, 103.0, 98.0, 139.0, 113.0, 122.0, 0.0, 205.0, 2.0, 150.0, 70.0, 52.0, 29.0, 44.0, 47.0, 35.0, 42.0, 33.0, 36.0, 32.0, 29.0, 28.0, 28.0, 23.0, 16.0, 22.0, 11.0, 8.0, 13.0, 10.0, 14.0, 13.0, 11.0, 8.0, 4.0, 6.0, 15.0, 0.0, 7.0, 4.0, 6.0, 5.0, 3.0, 5.0, 4.0, 1.0, 7.0, 6.0, 4.0, 4.0, 3.0, 2.0, 0.0, 2.0, 2.0, 1.0, 3.0, 0.0, 2.0, 0.0, 1.0, 0.0, 1290.0, 0.0, 0.0, 0.0, 0.0, 0.0, 0.0, 0.0, 0.0, 1.0, 0.0, 0.0, 0.0, 0.0, 0.0, 0.0, 0.0, 0.0, 0.0, 0.0, 0.0, 0.0, 0.0, 0.0, 0.0, 0.0, 0.0, 0.0, 0.0, 1.0, 0.0, 0.0, 0.0, 0.0, 0.0, 0.0, 0.0, 0.0, 0.0, 0.0, 0.0, 0.0, 0.0, 0.0, 0.0, 0.0, 0.0, 0.0, 0.0, 0.0, 0.0, 0.0, 0.0, 0.0, 0.0, 0.0, 0.0, 0.0, 0.0, 0.0, 0.0, 0.0, 0.0, 0.0, 1.0, 0.0, 0.0, 1.0, 0.0, 1.0, 0.0, 0.0, 0.0, 0.0, 0.0, 0.0, 0.0, 0.0, 0.0, 0.0, 0.0, 0.0, 0.0, 0.0, 0.0, 0.0, 0.0, 0.0, 1.0, 2.0, 0.0, 1.0, 1.0, 0.0, 0.0, 2.0, 0.0, 1.0, 1.0, 2.0, 0.0, 4.0, 1.0, 1.0, 1.0, 2.0, 6.0, 2.0, 3.0, 4.0, 1.0, 3.0, 1.0, 0.0, 5.0, 3.0, 4.0, 4.0, 3.0]}],\n",
       "                        {\"legend\": {\"bgcolor\": \"#F5F6F9\", \"font\": {\"color\": \"#4D5663\"}}, \"paper_bgcolor\": \"#F5F6F9\", \"plot_bgcolor\": \"#F5F6F9\", \"title\": {\"font\": {\"color\": \"#4D5663\"}, \"text\": \"COVID-19 By days\"}, \"xaxis\": {\"gridcolor\": \"#E1E5ED\", \"showgrid\": true, \"tickfont\": {\"color\": \"#4D5663\"}, \"title\": {\"font\": {\"color\": \"#4D5663\"}, \"text\": \"\"}, \"zerolinecolor\": \"#E1E5ED\"}, \"yaxis\": {\"gridcolor\": \"#E1E5ED\", \"showgrid\": true, \"tickfont\": {\"color\": \"#4D5663\"}, \"title\": {\"font\": {\"color\": \"#4D5663\"}, \"text\": \"\"}, \"zerolinecolor\": \"#E1E5ED\"}},\n",
       "                        {\"showLink\": true, \"linkText\": \"Export to plot.ly\", \"plotlyServerURL\": \"https://plot.ly\", \"responsive\": true}\n",
       "                    ).then(function(){\n",
       "                            \n",
       "var gd = document.getElementById('e805f0e6-9fdf-4ac3-8d75-540a84bb1011');\n",
       "var x = new MutationObserver(function (mutations, observer) {{\n",
       "        var display = window.getComputedStyle(gd).display;\n",
       "        if (!display || display === 'none') {{\n",
       "            console.log([gd, 'removed!']);\n",
       "            Plotly.purge(gd);\n",
       "            observer.disconnect();\n",
       "        }}\n",
       "}});\n",
       "\n",
       "// Listen for the removal of the full notebook cells\n",
       "var notebookContainer = gd.closest('#notebook-container');\n",
       "if (notebookContainer) {{\n",
       "    x.observe(notebookContainer, {childList: true});\n",
       "}}\n",
       "\n",
       "// Listen for the clearing of the current output cell\n",
       "var outputEl = gd.closest('.output');\n",
       "if (outputEl) {{\n",
       "    x.observe(outputEl, {childList: true});\n",
       "}}\n",
       "\n",
       "                        })\n",
       "                };\n",
       "                });\n",
       "            </script>\n",
       "        </div>"
      ]
     },
     "metadata": {},
     "output_type": "display_data"
    }
   ],
   "source": [
    "Country_Aggregate[[\"Confirmed\",\"Recovered\",\"Deaths\",\"Exposed\",\"Infected\",\"Infectedundetected\"]].iplot(kind='scatter',title = 'COVID-19 By days')"
   ]
  },
  {
   "cell_type": "code",
   "execution_count": null,
   "metadata": {},
   "outputs": [],
   "source": []
  },
  {
   "cell_type": "markdown",
   "metadata": {},
   "source": [
    "### Compartments"
   ]
  },
  {
   "cell_type": "code",
   "execution_count": 922,
   "metadata": {},
   "outputs": [
    {
     "name": "stdout",
     "output_type": "stream",
     "text": [
      "Susceptible: 1404676330.0\n",
      "Exposed: 15388.0\n",
      "Infected: 15388.0\n",
      "Infectedundetected: 1290.0\n",
      "Hospitalized: 15136.0\n",
      "Recovered: 3995.0\n",
      "Death: 1290.0\n"
     ]
    }
   ],
   "source": [
    "# S\n",
    "Susceptible_compartment = float(result.Population)\n",
    "# E\n",
    "Exposed_compartment = float(Country_Aggregate.Exposed.max())\n",
    "# I\n",
    "Infected_compartment = float(Country_Aggregate.Infected.max())\n",
    "# Iu\n",
    "Infectedundetected_compartment = float(Country_Aggregate.Infectedundetected.max()) \n",
    "# H\n",
    "Hospitalized_compartment = float(Country_Aggregate.Confirmed.max())\n",
    "# R\n",
    "Recovered_compartment = float(Country_Aggregate.Recovered.max())\n",
    "# D\n",
    "Death_compartment = float(Country_Aggregate.Deaths.max())\n",
    "\n",
    "print('Susceptible:',Susceptible_compartment)\n",
    "print('Exposed:',Exposed_compartment)\n",
    "print('Infected:',Infected_compartment)\n",
    "print('Infectedundetected:',Infectedundetected_compartment)\n",
    "print('Hospitalized:',Hospitalized_compartment)\n",
    "print('Recovered:',Recovered_compartment)\n",
    "print('Death:',Death_compartment)"
   ]
  },
  {
   "cell_type": "markdown",
   "metadata": {},
   "source": [
    "# Parameters Used In Notebook"
   ]
  },
  {
   "cell_type": "markdown",
   "metadata": {},
   "source": [
    "### mE  , mI , mIu , mHR , mHD Control Measures"
   ]
  },
  {
   "cell_type": "markdown",
   "metadata": {},
   "source": [
    "### μm Mortality Rate"
   ]
  },
  {
   "cell_type": "markdown",
   "metadata": {},
   "source": [
    "### θ Total Infected People detected"
   ]
  },
  {
   "cell_type": "markdown",
   "metadata": {},
   "source": [
    "### γ Transition rate from one compartment to another"
   ]
  },
  {
   "cell_type": "markdown",
   "metadata": {},
   "source": [
    "### β Disease contatct rate in compartments"
   ]
  },
  {
   "cell_type": "markdown",
   "metadata": {},
   "source": [
    "### τ1 Arrives to territory i from other territories per day | τ2 leaves territory i per day"
   ]
  },
  {
   "cell_type": "code",
   "execution_count": null,
   "metadata": {},
   "outputs": [],
   "source": []
  },
  {
   "cell_type": "markdown",
   "metadata": {},
   "source": [
    "# CASE 1 : S -> E -> I -> Iu -> Ru"
   ]
  },
  {
   "cell_type": "markdown",
   "metadata": {},
   "source": [
    "### Parameters"
   ]
  },
  {
   "cell_type": "code",
   "execution_count": 951,
   "metadata": {},
   "outputs": [],
   "source": [
    "MUe = 1.0\n",
    "MUi = 1.0\n",
    "MUiu = 1.0\n",
    "days = len(Country_Aggregate.Date.unique())\n",
    "\n",
    "initE = 1000\n",
    "initI = Country_Aggregate.Confirmed.min()\n",
    "initIu = 0\n",
    "initRu = 0\n",
    "initN = 1\n",
    "initDays = 1"
   ]
  },
  {
   "cell_type": "markdown",
   "metadata": {},
   "source": [
    "### Model Function"
   ]
  },
  {
   "cell_type": "code",
   "execution_count": 952,
   "metadata": {},
   "outputs": [],
   "source": [
    "def SEIR(x, t):\n",
    "    S, E, I, Iu, Ru, betae, betai, betaiu, N, Tao1, Tao2, Gammae, Gammai, Gammaiu, Theta, MUe, MUi, MUiu, Omega = x\n",
    "    \n",
    "    dS = (-(S/N)*((MUe*betae*E)+(MUi*betai*I)+(MUiu*betaiu*Theta*Iu)))\n",
    "    \n",
    "    dE = ((S/N)*((MUe*betae*E)+(MUi*betai*I)+(MUiu*betaiu*Theta*Iu))) - Gammae*E + Tao1 - Tao2\n",
    "    \n",
    "    dI = (Gammae*E) - (Gammai*I)\n",
    "    \n",
    "    dIu = ((Gammai*I)-(Gammai*I*Theta)-(Gammaiu*Iu))\n",
    "    \n",
    "    dRu = (Gammaiu*Iu)\n",
    "    \n",
    "    return [dS, dE, dI, dIu, dRu, betae, betai, betaiu, N, Tao1, Tao2, Gammae, Gammai, Gammaiu, Theta, MUe, MUi, MUiu, Omega]"
   ]
  },
  {
   "cell_type": "markdown",
   "metadata": {},
   "source": [
    "### Main Function"
   ]
  },
  {
   "cell_type": "code",
   "execution_count": 955,
   "metadata": {},
   "outputs": [],
   "source": [
    "def main(initE, initI, initIu, initRu, initN, initMUe, initMUi, initMUiu, days, param_fitting):\n",
    "    \n",
    "    MUe = initMUe\n",
    "    MUi = initMUi\n",
    "    MUiu = initMUiu\n",
    "    \n",
    "    Theta = float(Hospitalized_compartment)\n",
    "    \n",
    "    Gammae = MUe\n",
    "    Gammai = MUi\n",
    "    Gammaiu = MUiu\n",
    "    \n",
    "    Tao1 = 0#float(Country_Aggregate.Exposed.max())\n",
    "    Tao2 = 0#float(Country_Aggregate.Exposed.max())\n",
    "\n",
    "    tspan = np.arange(0, days, 1)\n",
    "    \n",
    "    betae = 1.0 / MUe \n",
    "    betai = 1.0 / MUi\n",
    "    betaiu = 1.0 / MUiu\n",
    "\n",
    "    R0 = ((MUi*betai) / (Gammai * (Theta+1)))\n",
    "    print(\"R0:\" , R0)\n",
    "    \n",
    "    betae = R0*Gammae          \n",
    "    betai = R0*Gammai\n",
    "    betaiu = R0*Gammaiu\n",
    "    \n",
    "    Omega = 0.0527\n",
    "    \n",
    "    N = initN\n",
    "\n",
    "    \n",
    "    IC = [1000, 1000, 500, Country_Aggregate.Infectedundetected.min(),Country_Aggregate.Recovered.min(),\n",
    "         betae, betai, betaiu, N, Tao1, Tao2, Gammae, Gammai, Gammaiu, Theta, MUe, MUi, MUiu, Omega]\n",
    "    t = np.linspace(0, 180, 1000)\n",
    "    soln = odeint(SEIR, IC, t)\n",
    "    S, E, I, Iu, Ru = soln[:, 0], soln[:, 1], soln[:, 2]+soln[:, 3], soln[:, 3], soln[:, 4]\n",
    "    \n",
    "    S[S < 0] = 0\n",
    "    E[E < 0] = 0\n",
    "    I[I < 0] = 0\n",
    "    Iu[Iu < 0] = 0\n",
    "    Ru[Ru < 0] = 0\n",
    "    \n",
    "    # Create traces\n",
    "    fig = go.Figure()\n",
    "    if not param_fitting:\n",
    "        fig.add_trace(go.Scatter(x=tspan, y = S, mode='lines+markers', name='Susceptible'))\n",
    "        fig.add_trace(go.Scatter(x=tspan, y = E, mode='lines+markers', name='Exposed'))\n",
    "    fig.add_trace(go.Scatter(x=tspan, y = I, mode='lines+markers', name='Infected'))\n",
    "    fig.add_trace(go.Scatter(x=tspan, y = Iu, mode='lines+markers',name='Infected Undetected'))\n",
    "    fig.add_trace(go.Scatter(x=tspan, y = Ru, mode='lines+markers',name='Recovered Undetected'))\n",
    "\n",
    "    if param_fitting:\n",
    "        fig.add_trace(go.Scatter(x=tspan, y=Country_Aggregate.Confirmed, mode='lines+markers',\\\n",
    "                             name='Infections Observed', line = dict(dash='dash')))\n",
    "        fig.add_trace(go.Scatter(x=tspan, y=Country_Aggregate.Recovered, mode='lines+markers',\\\n",
    "                             name='Hospitalized Recovered', line = dict(dash='dash')))\n",
    "        fig.add_trace(go.Scatter(x=tspan, y=Country_Aggregate.Deaths, mode='lines+markers',\\\n",
    "                             name='Deaths Observed', line = dict(dash='dash')))\n",
    "    \n",
    "    if days <= 30:\n",
    "        step = 1\n",
    "    elif days <= 90:\n",
    "        step = 7\n",
    "    else:\n",
    "        step = 30\n",
    "    \n",
    "    # Edit the layout\n",
    "    fig.layout.update(title='Simulation of S E I Iu Ru Model',\n",
    "                       xaxis_title='Day',\n",
    "                       yaxis_title='Counts',\n",
    "                       title_x=0.5,\n",
    "                      width=900, height=600\n",
    "                     )\n",
    "    fig.update_xaxes(tickangle=-90, tickformat = None, tickmode='array', tickvals=np.arange(0, days + 1, step))\n",
    "    if not os.path.exists(\"images\"):\n",
    "        os.mkdir(\"images\")\n",
    "    fig.write_image(\"images/seird_simulation.png\")\n",
    "    fig.show()"
   ]
  },
  {
   "cell_type": "markdown",
   "metadata": {},
   "source": [
    "### Slider Widget"
   ]
  },
  {
   "cell_type": "code",
   "execution_count": 956,
   "metadata": {},
   "outputs": [
    {
     "data": {
      "application/vnd.jupyter.widget-view+json": {
       "model_id": "8d3e59e981cc453d98f5adafbdc0edb3",
       "version_major": 2,
       "version_minor": 0
      },
      "text/plain": [
       "interactive(children=(IntSlider(value=1000, description='E', layout=Layout(width='99%'), max=15388, style=Slid…"
      ]
     },
     "metadata": {},
     "output_type": "display_data"
    }
   ],
   "source": [
    "interact(main, \n",
    "         initE = IntSlider(min = 0, max = Exposed_compartment, step = 1, value = initE, description = 'E', style = style, layout = slider_layout),\n",
    "         initI = IntSlider(min = 0, max = Infected_compartment, step = 10, value = initI, description = 'I', style = style, layout = slider_layout),\n",
    "         initIu = IntSlider(min = 0, max = Infectedundetected_compartment, step = 10, value = initIu, description = 'Iu', style = style, layout = slider_layout),\n",
    "         initRu = IntSlider(min = 0, max = Recovered_compartment, step = 10, value = initIu, description = 'Ru', style = style, layout = slider_layout),\n",
    "         initN = IntSlider(min = 0, max = result.Population, step = 10, value = initN, description = 'N', style = style, layout = slider_layout),\n",
    "         initMUe = FloatSlider(min = 0, max = 4, step = 0.01, value = MUe, description = 'Control Measure Exposed', style = style, layout = slider_layout),\n",
    "         initMUi = FloatSlider(min = 0, max = 4, step = 0.01, value = MUi, description = 'Control Measure Infected', style = style, layout = slider_layout),\n",
    "         initMUiu = FloatSlider(min = 0, max = 4, step = 0.01, value = MUhr, description = 'Control Measure Hospitalized Recovered', style = style, layout = slider_layout),\n",
    "         days = IntSlider(min = 0, max = len(Country_Aggregate.Date.unique()), step = 7, value = initDays, description = 'Days', style = style, layout = slider_layout),\n",
    "         param_fitting = ToggleButton(value = False, description = 'Fitting Mode', disabled = False, button_style = '', \\\n",
    "             tooltip = 'Click to show fewer plots', icon = 'check-circle')\n",
    "        );"
   ]
  },
  {
   "cell_type": "markdown",
   "metadata": {},
   "source": [
    "# CASE 2 : S -> E -> I -> Hr -> Rd"
   ]
  },
  {
   "cell_type": "markdown",
   "metadata": {},
   "source": [
    "### Parameters used"
   ]
  },
  {
   "cell_type": "code",
   "execution_count": 760,
   "metadata": {},
   "outputs": [],
   "source": [
    "MUe = 1.0\n",
    "MUi = 1.0\n",
    "MUhr = 1.0\n",
    "days = len(Country_Aggregate.Date.unique())\n",
    "\n",
    "initE = 1000\n",
    "initI = Country_Aggregate.Confirmed.min()\n",
    "initHr = 0\n",
    "initRd = 0\n",
    "initN = 1\n",
    "initDays = 1"
   ]
  },
  {
   "cell_type": "markdown",
   "metadata": {},
   "source": [
    "### Model Function"
   ]
  },
  {
   "cell_type": "code",
   "execution_count": 761,
   "metadata": {},
   "outputs": [],
   "source": [
    "def SEIR(x, t):\n",
    "    S, E, I, Hr, Rd, betae, betai, betahr, N, Tao1, Tao2, Gammae, Gammai, Gammahr, Theta, MUe, MUi, MUhr, Omega = x\n",
    "    \n",
    "    dS = (-(S/N)*((MUe*betae*E)+(MUi*betai*I))) - ((S/N)*(MUhr*betahr*Hr))\n",
    "    \n",
    "    dE = ((S/N)*((MUe*betae*E)+(MUi*betai*I))) + ((S/N)*(MUhr*betahr*Hr)) - Gammae*E + Tao1 - Tao2\n",
    "    \n",
    "    dI = (Gammae*E) - (Gammai*I)\n",
    "    \n",
    "    dHr = (Theta*Gammai*I) - (Omega*Gammai*I) - (Gammahr*Hr)\n",
    "    \n",
    "    dRd = (Gammahr*Hr)\n",
    "    \n",
    "    return [dS, dE, dI, dHr, dRd, betae, betai, betahr, N, Tao1, Tao2, Gammae, Gammai, Gammahr, Theta, MUe, MUi, MUhr, Omega]"
   ]
  },
  {
   "cell_type": "markdown",
   "metadata": {},
   "source": [
    "### Main Function"
   ]
  },
  {
   "cell_type": "code",
   "execution_count": 959,
   "metadata": {},
   "outputs": [],
   "source": [
    "def main(initE, initI, initHr, initRd, initN, initMUe, initMUi, initMUhr, days, param_fitting):\n",
    "    \n",
    "    MUe = initMUe\n",
    "    MUi = initMUi\n",
    "    MUhr = initMUhr\n",
    "    \n",
    "    Theta = float(Hospitalized_compartment)\n",
    "    \n",
    "    Gammae = MUe\n",
    "    Gammai = MUi\n",
    "    Gammahr = MUhr\n",
    "    \n",
    "    Tao1 = 0#float(Country_Aggregate.Exposed.max())\n",
    "    Tao2 = 0#float(Country_Aggregate.Exposed.max())\n",
    "\n",
    "    tspan = np.arange(0, days, 1)\n",
    "    \n",
    "    betae = 1.0 / MUe \n",
    "    betai = 1.0 / MUi\n",
    "    betahr = 1.0 / MUhr\n",
    "\n",
    "    R0 = ((MUi*betai)/Gammai)\n",
    "    print(\"R0 : \", R0)\n",
    "    \n",
    "    betae = R0*Gammae          \n",
    "    betai = R0*Gammai\n",
    "    betahr = R0*Gammahr\n",
    "    \n",
    "    Omega = 0.0527\n",
    "    \n",
    "    N = initN\n",
    "\n",
    "    \n",
    "    IC = [1000, 1000, 500, Country_Aggregate.Confirmed.min(),Country_Aggregate.Recovered.min(),\n",
    "         betae, betai, betahr, N, Tao1, Tao2, Gammae, Gammai, Gammahr, Theta, MUe, MUi, MUhr, Omega]\n",
    "    t = np.linspace(0, 180, 1000)\n",
    "    soln = odeint(SEIR, IC, t)\n",
    "    S, E, I, Hr, Rd = soln[:, 0], soln[:, 1], soln[:, 2], soln[:, 3], soln[:, 4]\n",
    "\n",
    "    \n",
    "    # Create traces\n",
    "    fig = go.Figure()\n",
    "    if not param_fitting:\n",
    "        fig.add_trace(go.Scatter(x=tspan, y = S, mode='lines+markers', name='Susceptible'))\n",
    "        fig.add_trace(go.Scatter(x=tspan, y = E, mode='lines+markers', name='Exposed'))\n",
    "    fig.add_trace(go.Scatter(x=tspan, y = I, mode='lines+markers', name='Infected'))\n",
    "    fig.add_trace(go.Scatter(x=tspan, y = Hr, mode='lines+markers',name='Hospitalized Recovered'))\n",
    "    fig.add_trace(go.Scatter(x=tspan, y = Rd, mode='lines+markers',name='Recovered detected'))\n",
    "\n",
    "    if param_fitting:\n",
    "        fig.add_trace(go.Scatter(x=tspan, y=Country_Aggregate.Confirmed, mode='lines+markers',\\\n",
    "                             name='Infections Observed', line = dict(dash='dash')))\n",
    "        fig.add_trace(go.Scatter(x=tspan, y=Country_Aggregate.Recovered, mode='lines+markers',\\\n",
    "                             name='Hospitalized Recovered', line = dict(dash='dash')))\n",
    "        fig.add_trace(go.Scatter(x=tspan, y=Country_Aggregate.Deaths, mode='lines+markers',\\\n",
    "                             name='Deaths Observed', line = dict(dash='dash')))\n",
    "    \n",
    "    if days <= 30:\n",
    "        step = 1\n",
    "    elif days <= 90:\n",
    "        step = 7\n",
    "    else:\n",
    "        step = 30\n",
    "    \n",
    "    # Edit the layout\n",
    "    fig.layout.update(title='Simulation of S E I Hr Rd Model',\n",
    "                       xaxis_title='Day',\n",
    "                       yaxis_title='Counts',\n",
    "                       title_x=0.5,\n",
    "                      width=900, height=600\n",
    "                     )\n",
    "    fig.update_xaxes(tickangle=-90, tickformat = None, tickmode='array', tickvals=np.arange(0, days + 1, step))\n",
    "    if not os.path.exists(\"images\"):\n",
    "        os.mkdir(\"images\")\n",
    "    fig.write_image(\"images/seird_simulation.png\")\n",
    "    fig.show()"
   ]
  },
  {
   "cell_type": "markdown",
   "metadata": {},
   "source": [
    "### Slider Widget"
   ]
  },
  {
   "cell_type": "code",
   "execution_count": 961,
   "metadata": {},
   "outputs": [
    {
     "data": {
      "application/vnd.jupyter.widget-view+json": {
       "model_id": "abdcfa2eef0c4dfab30ccce76eb2f09f",
       "version_major": 2,
       "version_minor": 0
      },
      "text/plain": [
       "interactive(children=(IntSlider(value=1000, description='E', layout=Layout(width='99%'), max=15388, style=Slid…"
      ]
     },
     "metadata": {},
     "output_type": "display_data"
    }
   ],
   "source": [
    "interact(main, \n",
    "         initE = IntSlider(min = 0, max = Exposed_compartment, step = 1, value = initE, description = 'E', style = style, layout = slider_layout),\n",
    "         initI = IntSlider(min = 0, max = Infected_compartment, step = 10, value = initI, description = 'I', style = style, layout = slider_layout),\n",
    "         initHr = IntSlider(min = 0, max = Recovered_compartment, step = 10, value = initIu, description = 'Hr', style = style, layout = slider_layout),\n",
    "         initRd = IntSlider(min = 0, max = Recovered_compartment, step = 10, value = initIu, description = 'Rd', style = style, layout = slider_layout),\n",
    "         initN = IntSlider(min = 0, max = result.Population, step = 10, value = initN, description = 'N', style = style, layout = slider_layout),\n",
    "         initMUe = FloatSlider(min = 0, max = 4, step = 0.01, value = MUe, description = 'Control Measure Exposed', style = style, layout = slider_layout),\n",
    "         initMUi = FloatSlider(min = 0, max = 4, step = 0.01, value = MUi, description = 'Control Measure Infected', style = style, layout = slider_layout),\n",
    "         initMUhr = FloatSlider(min = 0, max = 4, step = 0.01, value = MUhr, description = 'Control Measure Hospitalized Recovered', style = style, layout = slider_layout),\n",
    "         days = IntSlider(min = 0, max = len(Country_Aggregate.Date.unique()), step = 7, value = initDays, description = 'Days', style = style, layout = slider_layout),\n",
    "         param_fitting = ToggleButton(value = False, description = 'Fitting Mode', disabled = False, button_style = '', \\\n",
    "             tooltip = 'Click to show fewer plots', icon = 'check-circle')\n",
    "        );"
   ]
  },
  {
   "cell_type": "markdown",
   "metadata": {},
   "source": [
    "# CASE 3 : S -> E -> I -> HD -> D"
   ]
  },
  {
   "cell_type": "markdown",
   "metadata": {},
   "source": [
    "### Parameters Used"
   ]
  },
  {
   "cell_type": "code",
   "execution_count": 1095,
   "metadata": {},
   "outputs": [],
   "source": [
    "MUe = 1.0\n",
    "MUi = 1.0\n",
    "MUhd = 1.0\n",
    "days = len(Country_Aggregate.Date.unique())\n",
    "\n",
    "initE = 1000\n",
    "initI = Country_Aggregate.Confirmed.min()\n",
    "initHD = 0\n",
    "initD = 0\n",
    "initN = 1\n",
    "initDays = 1"
   ]
  },
  {
   "cell_type": "markdown",
   "metadata": {},
   "source": [
    "### Model Function"
   ]
  },
  {
   "cell_type": "code",
   "execution_count": 1096,
   "metadata": {},
   "outputs": [],
   "source": [
    "def SEIR(x, t):\n",
    "    S, E, I, HD, D, betae, betai, betahd, N, Tao1, Tao2, Gammae, Gammai, Gammahd, Theta, MUe, MUi, MUhd, Omega = x\n",
    "    \n",
    "    dS = (-(S/N)*((MUe*betae*E)+(MUi*betai*I))) - ((S/N)*(MUhd*betahd*HD))\n",
    "    \n",
    "    dE = ((S/N)*((MUe*betae*E)+(MUi*betai*I))) + ((S/N)*(MUhd*betahd*HD)) - Gammae*E + Tao1 - Tao2\n",
    "    \n",
    "    dI = (Gammae*E) - (Gammai*I)\n",
    "    \n",
    "    dHD = (Omega*Gammai*I)-(Gammahd*HD)\n",
    "    \n",
    "    dD = (Gammahd*HD)\n",
    "    \n",
    "    return [dS, dE, dI, dHD, dD, betae, betai, betahd, N, Tao1, Tao2, Gammae, Gammai, Gammahd, Theta, MUe, MUi, MUhd, Omega]"
   ]
  },
  {
   "cell_type": "markdown",
   "metadata": {},
   "source": [
    "### Main Function"
   ]
  },
  {
   "cell_type": "code",
   "execution_count": 1097,
   "metadata": {},
   "outputs": [],
   "source": [
    "def main(initE, initI, initHD, initD, initN, initMUe, initMUi, initMUhd, days, param_fitting):\n",
    "    \n",
    "    MUe = initMUe\n",
    "    MUi = initMUi\n",
    "    MUhd = initMUhd\n",
    "    \n",
    "    Theta = float(Hospitalized_compartment)\n",
    "    \n",
    "    Gammae = MUe\n",
    "    Gammai = MUi\n",
    "    Gammahd = MUhd\n",
    "    \n",
    "    Tao1 = 0#float(Country_Aggregate.Exposed.max())\n",
    "    Tao2 = 0#float(Country_Aggregate.Exposed.max())\n",
    "\n",
    "    tspan = np.arange(0, days, 1)\n",
    "    \n",
    "    betae = 1.0 / MUe \n",
    "    betai = 1.0 / MUi\n",
    "    betahd = 1.0 / MUhd\n",
    "\n",
    "    R0 = ((MUe*betae)/Gammae)\n",
    "    print(\"R0 :\", R0)\n",
    "    \n",
    "    betae = R0*Gammae          \n",
    "    betai = R0*Gammai\n",
    "    betahd = R0*Gammahd\n",
    "    \n",
    "    Omega = 0.0527\n",
    "    \n",
    "    N = initN\n",
    "\n",
    "    \n",
    "    IC = [1000, 1000, 500, Country_Aggregate.Confirmed.min(),Country_Aggregate.Recovered.min(),\n",
    "         betae, betai, betahd, N, Tao1, Tao2, Gammae, Gammai, Gammahd, Theta, MUe, MUi, MUhd, Omega]\n",
    "    t = np.linspace(0, 180, 1000)\n",
    "    soln = odeint(SEIR, IC, t)\n",
    "    S, E, I, HD, D = soln[:, 0], soln[:, 1], soln[:, 2], soln[:, 3]+soln[:, 4], soln[:, 4]\n",
    "\n",
    "    \n",
    "    # Create traces\n",
    "    fig = go.Figure()\n",
    "    if not param_fitting:\n",
    "        fig.add_trace(go.Scatter(x=tspan, y = S, mode='lines+markers', name='Susceptible'))\n",
    "        fig.add_trace(go.Scatter(x=tspan, y = E, mode='lines+markers', name='Exposed'))\n",
    "    fig.add_trace(go.Scatter(x=tspan, y = I, mode='lines+markers', name='Infected'))\n",
    "    fig.add_trace(go.Scatter(x=tspan, y = HD, mode='lines+markers',name='Hospitalized Death'))\n",
    "    fig.add_trace(go.Scatter(x=tspan, y = D, mode='lines+markers',name='Death'))\n",
    "\n",
    "    if param_fitting:\n",
    "        fig.add_trace(go.Scatter(x=tspan, y=Country_Aggregate.Confirmed, mode='lines+markers',\\\n",
    "                             name='Infections Observed', line = dict(dash='dash')))\n",
    "        fig.add_trace(go.Scatter(x=tspan, y=Country_Aggregate.Recovered, mode='lines+markers',\\\n",
    "                             name='Hospitalized Recovered', line = dict(dash='dash')))\n",
    "        fig.add_trace(go.Scatter(x=tspan, y=Country_Aggregate.Deaths, mode='lines+markers',\\\n",
    "                             name='Deaths Observed', line = dict(dash='dash')))\n",
    "    \n",
    "    if days <= 30:\n",
    "        step = 1\n",
    "    elif days <= 90:\n",
    "        step = 7\n",
    "    else:\n",
    "        step = 30\n",
    "    \n",
    "    # Edit the layout\n",
    "    fig.layout.update(title='Simulation of S E I HD D Model',\n",
    "                       xaxis_title='Day',\n",
    "                       yaxis_title='Counts',\n",
    "                       title_x=0.5,\n",
    "                      width=900, height=600\n",
    "                     )\n",
    "    fig.update_xaxes(tickangle=-90, tickformat = None, tickmode='array', tickvals=np.arange(0, days + 1, step))\n",
    "    if not os.path.exists(\"images\"):\n",
    "        os.mkdir(\"images\")\n",
    "    fig.write_image(\"images/seird_simulation.png\")\n",
    "    fig.show()"
   ]
  },
  {
   "cell_type": "markdown",
   "metadata": {},
   "source": [
    "### Slider Widget"
   ]
  },
  {
   "cell_type": "code",
   "execution_count": 1098,
   "metadata": {
    "scrolled": false
   },
   "outputs": [
    {
     "data": {
      "application/vnd.jupyter.widget-view+json": {
       "model_id": "be911013771e498785fba0128c2fbbec",
       "version_major": 2,
       "version_minor": 0
      },
      "text/plain": [
       "interactive(children=(IntSlider(value=1000, description='E', layout=Layout(width='99%'), max=15388, style=Slid…"
      ]
     },
     "metadata": {},
     "output_type": "display_data"
    }
   ],
   "source": [
    "interact(main, \n",
    "         initE = IntSlider(min = 0, max = Exposed_compartment, step = 1, value = initE, description = 'E', style = style, layout = slider_layout),\n",
    "         initI = IntSlider(min = 0, max = Infected_compartment, step = 10, value = initI, description = 'I', style = style, layout = slider_layout),\n",
    "         initHD = IntSlider(min = 0, max = Hospitalized_compartment, step = 10, value = initIu, description = 'HD', style = style, layout = slider_layout),\n",
    "         initD = IntSlider(min = 0, max = Death_compartment, step = 10, value = initIu, description = 'D', style = style, layout = slider_layout),\n",
    "         initN = IntSlider(min = 0, max = result.Population, step = 10, value = initN, description = 'N', style = style, layout = slider_layout),\n",
    "         initMUe = FloatSlider(min = 0, max = 4, step = 0.01, value = MUe, description = 'Control Measure Exposed', style = style, layout = slider_layout),\n",
    "         initMUi = FloatSlider(min = 0, max = 4, step = 0.01, value = MUi, description = 'Control Measure Infected', style = style, layout = slider_layout),\n",
    "         initMUhd = FloatSlider(min = 0, max = 4, step = 0.01, value = MUhr, description = 'Control Measure Hospitalized Death', style = style, layout = slider_layout),\n",
    "         days = IntSlider(min = 0, max = len(Country_Aggregate.Date.unique()), step = 7, value = initDays, description = 'Days', style = style, layout = slider_layout),\n",
    "         param_fitting = ToggleButton(value = False, description = 'Fitting Mode', disabled = False, button_style = '', \\\n",
    "             tooltip = 'Click to show fewer plots', icon = 'check-circle')\n",
    "        );"
   ]
  },
  {
   "cell_type": "markdown",
   "metadata": {},
   "source": [
    "# Final Compartment"
   ]
  },
  {
   "cell_type": "markdown",
   "metadata": {},
   "source": [
    "# S, E, I, Iu , HR , HD , Rd , Ru or D"
   ]
  },
  {
   "cell_type": "code",
   "execution_count": 1350,
   "metadata": {},
   "outputs": [],
   "source": [
    "np.set_printoptions(suppress=True,\n",
    "   formatter={'float_kind':'{:16.3f}'.format}, linewidth=130)"
   ]
  },
  {
   "cell_type": "code",
   "execution_count": 1370,
   "metadata": {},
   "outputs": [],
   "source": [
    "#Country_Aggregate"
   ]
  },
  {
   "cell_type": "markdown",
   "metadata": {},
   "source": [
    "### Parameters Used"
   ]
  },
  {
   "cell_type": "code",
   "execution_count": 1366,
   "metadata": {},
   "outputs": [],
   "source": [
    "MUe = 2.0\n",
    "MUi = 2.0\n",
    "MUhd = 2.0\n",
    "MUiu = 2.0\n",
    "MUhr = 2.0\n",
    "days = len(Country_Aggregate.Date.unique())\n",
    "\n",
    "initE = 100 # Exposed.min()\n",
    "initI = 1 # Infected.min()\n",
    "initIu = 1 # Infectedundetected.min()\n",
    "initHR = 1 # Recovered.min()\n",
    "initHD = 1 # Deaths.min()\n",
    "initRd = 1 # Recovered.min()\n",
    "initRu = 1 # Infectedundetected.min()\n",
    "initD = 1 # Deaths.min()\n",
    "initN = result.Population\n",
    "initDays = 1"
   ]
  },
  {
   "cell_type": "markdown",
   "metadata": {},
   "source": [
    "### Model Function"
   ]
  },
  {
   "cell_type": "code",
   "execution_count": 1367,
   "metadata": {},
   "outputs": [],
   "source": [
    "def SEIR(x, t):\n",
    "    S, E, I, Iu, HR, HD, Rd, Ru, D, betae, betai, betahd, betaiu, betahr, N, Tao1, Tao2, Gammae, Gammai, Gammahd, Gammahr, Gammaiu, Theta, MUe, MUi, MUhd, MUiu, MUhr, Omega = x\n",
    "   \n",
    "    dS = (-(S/N)*((MUe*betae*E)+(MUi*betai*I)+(MUiu*betaiu*Theta*Iu))) - ((S/N)*((MUhr*betahr*HR)+(MUhd*betahd*HD))) \n",
    "    dS = abs(dS)\n",
    "    \n",
    "    dE = ((S/N)*((MUe*betae*E)+(MUi*betai*I)+(MUiu*betaiu*Theta*Iu))) + ((S/N)*(MUhr*betahr*HR)+(MUhd*betahd*HD)) - (Gammae*E) + Tao1 - Tao2\n",
    "    dE = abs(dE)\n",
    "    \n",
    "    dI = (Gammae*E)-(Gammai*I)\n",
    "    dI = abs(dI)\n",
    "    \n",
    "    dIu = ((1-Theta)*Gammai*I) - (Gammaiu*Iu)\n",
    "    dIu = abs(dIu)\n",
    "    \n",
    "    dHR = (Theta*Gammai*I)-(Omega*Gammai*I)-(Gammahr*HR)\n",
    "    dHR = abs(dHR)\n",
    "    \n",
    "    dHD = (Omega*Gammai*I)-(Gammahd*HD)\n",
    "    dHD = abs(dHD)\n",
    "    \n",
    "    dRd = (Gammahr*HR)\n",
    "    dRd = abs(dRd)\n",
    "    \n",
    "    dRu = (Gammaiu*Iu)\n",
    "    dRu = abs(dRu)\n",
    "    \n",
    "    dD = (Gammahd*HD)\n",
    "    dD = abs(dD)\n",
    "    \n",
    "    return [dS, dE, dI, dIu, dHR, dHD, dRd, dRu, dD, betae, betai, betahd, betaiu, betahr, N, Tao1, Tao2, Gammae, Gammai, Gammahd, Gammahr, Gammaiu, Theta, MUe, MUi, MUhd, MUiu, MUhr, Omega]"
   ]
  },
  {
   "cell_type": "markdown",
   "metadata": {},
   "source": [
    "### Main Function"
   ]
  },
  {
   "cell_type": "code",
   "execution_count": 1368,
   "metadata": {},
   "outputs": [],
   "source": [
    "def main(initE, initI, initIu, initHR, initHD, initRd, initRu, initD, initN, initMUe, initMUi, initMUhd, initMUiu, initMUhr, days, param_fitting):\n",
    "    MUe = initMUe\n",
    "    MUi = initMUi\n",
    "    MUhd = initMUhd\n",
    "    MUiu = initMUiu \n",
    "    MUhr = initMUhr\n",
    "    \n",
    "    Theta = 0.65\n",
    "    \n",
    "    Gammae = 0.1818\n",
    "    Gammai = 0.1493\n",
    "    Gammahd = MUhd\n",
    "    Gammahr = 0.0752\n",
    "    Gammaiu = 0.0752\n",
    "    \n",
    "    Tao1 = 0#float(Country_Aggregate.Exposed.max())\n",
    "    Tao2 = 0#float(Country_Aggregate.Exposed.max())\n",
    "\n",
    "    tspan = np.arange(0, days, 1)\n",
    "    \n",
    "    betae = 0.1079 / MUe \n",
    "    betai = 0.2834 / MUi\n",
    "    betahd = 0.0924 / MUhd\n",
    "    betaiu = 0.2650 / MUiu\n",
    "    betahr = 0.0924 / MUhr\n",
    "    \n",
    "    Omega = 0.0161\n",
    "\n",
    "    \n",
    "    R0 = ((((((betaiu*(1-Theta)*Gammahr)+((betahr*Gammaiu)*(Theta-Omega)))*Gammai + (betai*Gammahr*Gammaiu))*Gammae + (betae*Gammai*Gammahr*Gammaiu))*Gammahd)+(betahd*Omega*Gammae*Gammai*Gammahr*Gammaiu))/(Gammae*Gammai*Gammahd*Gammahd*Gammahr*Gammaiu)\n",
    "    print('R0:', R0)\n",
    "    betae = R0 * Gammae          \n",
    "    betai = R0 * Gammai\n",
    "    betahd = R0 * Gammahd\n",
    "    betaiu = R0 * Gammaiu\n",
    "    betahr = R0 * Gammahr\n",
    "    \n",
    "    \n",
    "    N = initN\n",
    "\n",
    "    IC = [N, initE, initI,initIu, initHR, initHD,initRd, initRu, initD,\n",
    "         betae, betai, betahd, betaiu, betahr, N, Tao1, Tao2, Gammae, Gammai, Gammahd, Gammahr, Gammaiu,\n",
    "         Theta, MUe, MUi, MUhd, MUiu, MUhr, Omega]\n",
    "    \n",
    "    t = np.linspace(0, 180, 1000)\n",
    "    soln = odeint(SEIR, IC, t)\n",
    "    \n",
    "    S, E, I, Iu, HR, HD, Rd, Ru, D = soln[:, 0], soln[:, 1], soln[:, 2]+soln[:, 3], soln[:, 3], soln[:, 4], soln[:, 5], soln[:, 6], soln[:, 7], soln[:, 8] \n",
    "    S = S**-3\n",
    "    E = E**-3\n",
    "    I = I**-3\n",
    "    Iu = Iu**-3\n",
    "    HR = HR**-3\n",
    "    HD = HD**-3\n",
    "    Rd = Rd**-3\n",
    "    Ru = Ru**-3\n",
    "    D = D**-3\n",
    "\n",
    "    \n",
    "    fig = go.Figure()\n",
    "    if not param_fitting:\n",
    "        np.set_printoptions(formatter={'float_kind':'{:f}'.format})\n",
    "        fig.add_trace(go.Scatter(x=tspan, y = S, mode='lines+markers', name='Susceptible'))     \n",
    "        fig.add_trace(go.Scatter(x=tspan, y = E, mode='lines+markers', name='Exposed'))\n",
    "        fig.add_trace(go.Scatter(x=tspan, y = I, mode='lines+markers', name='Infected'))\n",
    "        fig.add_trace(go.Scatter(x=tspan, y = Iu, mode='lines+markers',name='Infected Undetected'))\n",
    "        fig.add_trace(go.Scatter(x=tspan, y = HR, mode='lines+markers',name='Hospitalized Recovered'))\n",
    "        fig.add_trace(go.Scatter(x=tspan, y = HD, mode='lines+markers',name='Hospitalized Death'))\n",
    "        fig.add_trace(go.Scatter(x=tspan, y = Rd, mode='lines+markers',name='Recovered Detected'))\n",
    "        fig.add_trace(go.Scatter(x=tspan, y = Ru, mode='lines+markers',name='Hospitalized Death'))\n",
    "        fig.add_trace(go.Scatter(x=tspan, y = D, mode='lines+markers',name='Death'))\n",
    "    \n",
    "    if param_fitting:\n",
    "        fig.add_trace(go.Bar(x=tspan, y=Country_Aggregate.Confirmed, mode='lines+markers',\\\n",
    "                             name='Infections Observed', line = dict(dash='dash')))\n",
    "        fig.add_trace(go.Bar(x=tspan, y=Country_Aggregate.Recovered, mode='lines+markers',\\\n",
    "                             name='Hospitalized Recovered', line = dict(dash='dash')))\n",
    "        fig.add_trace(go.Bar(x=tspan, y=Country_Aggregate.Deaths, mode='lines+markers',\\\n",
    "                             name='Deaths Observed', line = dict(dash='dash')))\n",
    "\n",
    "    if days <= 30:\n",
    "        step = 1\n",
    "    elif days <= 90:\n",
    "        step = 7\n",
    "    else:\n",
    "        step = 30\n",
    "    \n",
    "    # Edit the layout\n",
    "    fig.layout.update(title='Simulation of S-E-I-IU-Ru-HR-Rd-HD-D Model',\n",
    "                       xaxis_title='Day',\n",
    "                       yaxis_title='Counts',  \n",
    "                       title_x=0.5,\n",
    "                      width=900, height=600\n",
    "                     )\n",
    "    fig.update_xaxes(tickangle=-90, tickformat = None, tickmode='array', tickvals=np.arange(0, days + 1, step))\n",
    "    if not os.path.exists(\"images\"):\n",
    "        os.mkdir(\"images\")\n",
    "    fig.write_image(\"images/seird_simulation.png\")\n",
    "    fig.show()"
   ]
  },
  {
   "cell_type": "markdown",
   "metadata": {},
   "source": [
    "### Slider Widget"
   ]
  },
  {
   "cell_type": "code",
   "execution_count": 1369,
   "metadata": {},
   "outputs": [
    {
     "data": {
      "application/vnd.jupyter.widget-view+json": {
       "model_id": "a46b28e0aa794c9a913bf0989a511acf",
       "version_major": 2,
       "version_minor": 0
      },
      "text/plain": [
       "interactive(children=(IntSlider(value=100, description='E', layout=Layout(width='99%'), max=15388, step=10, st…"
      ]
     },
     "metadata": {},
     "output_type": "display_data"
    }
   ],
   "source": [
    "interact(main, \n",
    "         initE = IntSlider(min = 0, max = Exposed_compartment, step = 10, value = initE, description = 'E', style = style, layout = slider_layout),\n",
    "         \n",
    "         initI = IntSlider(min = 0, max = Infected_compartment, step = 10, value = initI, description = 'I', style = style, layout = slider_layout),\n",
    "         \n",
    "         initIu = IntSlider(min = 0, max = Infectedundetected_compartment, step = 10, value = initIu, description = 'Iu', style = style, layout = slider_layout), \n",
    "         \n",
    "         initHR = IntSlider(min = 0, max = Recovered_compartment, step = 10, value = initHR, description = 'HR', style = style, layout = slider_layout),\n",
    "         \n",
    "         initHD = IntSlider(min = 0, max = Death_compartment, step = 10, value = initHD, description = 'HD', style = style, layout = slider_layout),\n",
    "         \n",
    "         initRd = IntSlider(min = 0, max = Recovered_compartment, step = 10, value = initRd, description = 'Rd', style = style, layout = slider_layout), \n",
    "         \n",
    "         initRu = IntSlider(min = 0, max = Recovered_compartment, step = 10, value = initRu, description = 'Ru', style = style, layout = slider_layout),\n",
    "         \n",
    "         initD = IntSlider(min = 0, max = Death_compartment, step = 10, value = initD, description = 'D', style = style, layout = slider_layout),\n",
    "         \n",
    "         initN = IntSlider(min = 0, max = result.Population, step = 10, value = initN, description = 'N', style = style, layout = slider_layout),\n",
    "         initMUe = FloatSlider(min = 0, max = 100, step = 1, value = MUe, description = 'Control Measure Exposed', style = style, layout = slider_layout),\n",
    "         initMUi = FloatSlider(min = 0, max = 100, step = 1, value = MUi, description = 'Control Measure Infected', style = style, layout = slider_layout),\n",
    "         initMUhd = FloatSlider(min = 0, max = 100, step = 1, value = MUhd, description = 'Control Measure Hospitalized Detected', style = style, layout = slider_layout),\n",
    "         initMUiu = FloatSlider(min = 0, max = 100, step = 1, value = MUiu, description = 'Control Measure Infected Undetected', style = style, layout = slider_layout),\n",
    "         initMUhr = FloatSlider(min = 0, max = 100, step = 1, value = MUhr, description = 'Control Measure Hospitalized Recovered', style = style, layout = slider_layout),\n",
    "         days = IntSlider(min = 0, max = 600, step = 1, value = initDays, description = 'Days', style = style, layout = slider_layout),\n",
    "         param_fitting = ToggleButton(value = False, description = 'Fitting Mode', disabled = False, button_style = '', \\\n",
    "             tooltip = 'Click to show fewer plots', icon = 'check-circle')\n",
    "        );"
   ]
  }
 ],
 "metadata": {
  "kernelspec": {
   "display_name": "Python 3",
   "language": "python",
   "name": "python3"
  },
  "language_info": {
   "codemirror_mode": {
    "name": "ipython",
    "version": 3
   },
   "file_extension": ".py",
   "mimetype": "text/x-python",
   "name": "python",
   "nbconvert_exporter": "python",
   "pygments_lexer": "ipython3",
   "version": "3.7.6"
  }
 },
 "nbformat": 4,
 "nbformat_minor": 4
}
